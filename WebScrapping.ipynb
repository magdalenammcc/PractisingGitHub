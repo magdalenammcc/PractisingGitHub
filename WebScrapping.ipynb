{
 "cells": [
  {
   "cell_type": "code",
   "execution_count": 237,
   "id": "intense-prototype",
   "metadata": {},
   "outputs": [
    {
     "name": "stdout",
     "output_type": "stream",
     "text": [
      "['', 'Mostly ', 'Sunny', 'High: 66 °', 'F']\n",
      "['', 'Partly ', 'Cloudy', 'Low: 48 °', 'F']\n",
      "['', 'Sunny', 'High: 61 °', 'F']\n",
      "['', 'Clear', 'Low: 46 °', 'F']\n",
      "['', 'Sunny', 'High: 69 °', 'F']\n",
      "['', 'Clear', 'Low: 47 °', 'F']\n",
      "['', 'Sunny', 'High: 74 °', 'F']\n",
      "['', 'Clear', 'Low: 49 °', 'F']\n",
      "['', 'Sunny', 'High: 69 °', 'F']\n",
      "['Mostly  Sunny', 'Partly  Cloudy', 'Sunny', 'Clear', 'Sunny', 'Clear', 'Sunny', 'Clear', 'Sunny']\n",
      "{'weekday': ['Today', 'Thursday', 'Friday', 'Saturday', 'Sunday'], 'date': [], 'description': ['Mostly  Sunny', 'Partly  Cloudy', 'Sunny', 'Clear', 'Sunny', 'Clear', 'Sunny', 'Clear', 'Sunny'], 'temp': ['High: 66 °', 'Low: 48 °', 'High: 61 °', 'Low: 46 °', 'High: 69 °', 'Low: 47 °', 'High: 74 °', 'Low: 49 °', 'High: 69 °'], 'item name': []}\n"
     ]
    }
   ],
   "source": [
    "import requests as rq\n",
    "from bs4 import BeautifulSoup as soup\n",
    "import csv\n",
    "import re\n",
    "\n",
    "page = rq.get(\"https://forecast.weather.gov/MapClick.php?lat=37.777120000000025&lon=-122.41963999999996\")\n",
    "content = soup(page.content,'html.parser')\n",
    "\n",
    "price_box = content.find(\"ul\", attrs={\"class\":\"list-unstyled\"})\n",
    "price = price_box.text\n",
    "list_1 = price.strip().split(\"\\n\")\n",
    "\n",
    "dict = {\n",
    "    \"weekday\": [],\n",
    "    \"date\": [],\n",
    "    \"description\": [],\n",
    "    \"temp\": [],\n",
    "    \"item name\": []\n",
    "}\n",
    "\n",
    "day_list = []\n",
    "date_list = []\n",
    "des_list = []\n",
    "temp_list = []\n",
    "item_list = []\n",
    "\n",
    "# Loop for day\n",
    "for e in range(0, len(list_1), 3):\n",
    "    if list_1[e].endswith(\"ght\"):\n",
    "        continue\n",
    "    else:\n",
    "        day_list.append(list_1[e])\n",
    "    \n",
    "dict[\"weekday\"] = day_list\n",
    "\n",
    "#Loop for description\n",
    "for e in range(1, len(list_1), 3):\n",
    "    if \n",
    "        continue\n",
    "    else:\n",
    "    a = re.split('(?=[A-Z])', list_1[e])\n",
    "    temp_list.append(a[-2])\n",
    "    print(a)\n",
    "    if len(a) > 4:\n",
    "        temp = a[1 : 3]\n",
    "        des_list.append(\" \".join(temp))\n",
    "    else:\n",
    "        des_list.append(a[1])\n",
    "        \n",
    "dict[\"description\"] = des_list\n",
    "dict[\"temp\"] = temp_list\n",
    "        \n",
    "# Loop for temp\n",
    "# for e in range(2, len(list_1), 2):\n",
    "#     if list_1[e].endswith(\"ght\"):\n",
    "#         continue\n",
    "#     else:\n",
    "#         day_list.append(list_1[e])\n",
    "        \n",
    "\n",
    "print(des_list)\n",
    "\n",
    "print(dict)\n",
    "\n",
    "# with open(\"./weather.csv\", \"w\") as file:"
   ]
  }
 ],
 "metadata": {
  "kernelspec": {
   "display_name": "Python 3",
   "language": "python",
   "name": "python3"
  },
  "language_info": {
   "codemirror_mode": {
    "name": "ipython",
    "version": 3
   },
   "file_extension": ".py",
   "mimetype": "text/x-python",
   "name": "python",
   "nbconvert_exporter": "python",
   "pygments_lexer": "ipython3",
   "version": "3.8.8"
  }
 },
 "nbformat": 4,
 "nbformat_minor": 5
}
